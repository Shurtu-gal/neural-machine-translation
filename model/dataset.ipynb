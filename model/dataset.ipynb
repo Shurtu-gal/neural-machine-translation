{
 "cells": [
  {
   "cell_type": "markdown",
   "metadata": {},
   "source": [
    "### This code is for converting comma separated data to tab separated data."
   ]
  },
  {
   "cell_type": "code",
   "execution_count": 1,
   "metadata": {},
   "outputs": [],
   "source": [
    "import pandas as pd"
   ]
  },
  {
   "cell_type": "code",
   "execution_count": 4,
   "metadata": {},
   "outputs": [],
   "source": [
    "train_raw = pd.read_csv('../data/wmt14_translate_de-en_train.csv', lineterminator='\\n')\n",
    "test_raw = pd.read_csv('../data/wmt14_translate_de-en_test.csv', lineterminator='\\n')\n",
    "val_raw = pd.read_csv('../data/wmt14_translate_de-en_validation.csv', lineterminator='\\n')"
   ]
  },
  {
   "cell_type": "code",
   "execution_count": 5,
   "metadata": {},
   "outputs": [],
   "source": [
    "# store the data in a tab separated file\n",
    "train_raw.to_csv('../data/train.tsv', sep='\\t', index=False)\n",
    "test_raw.to_csv('../data/test.tsv', sep='\\t', index=False)\n",
    "val_raw.to_csv('../data/val.tsv', sep='\\t', index=False)"
   ]
  }
 ],
 "metadata": {
  "kernelspec": {
   "display_name": ".venv",
   "language": "python",
   "name": "python3"
  },
  "language_info": {
   "codemirror_mode": {
    "name": "ipython",
    "version": 3
   },
   "file_extension": ".py",
   "mimetype": "text/x-python",
   "name": "python",
   "nbconvert_exporter": "python",
   "pygments_lexer": "ipython3",
   "version": "3.9.19"
  }
 },
 "nbformat": 4,
 "nbformat_minor": 2
}
