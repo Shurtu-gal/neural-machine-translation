{
 "cells": [
  {
   "cell_type": "markdown",
   "metadata": {},
   "source": [
    "## What is Seq2Seq Modelling?\n",
    "\n",
    "- **Sequence-to-sequence learning (Seq2Seq)** is about training models to convert sequences from one domain (e.g., sentences in English) to sequences in another domain (e.g., the same sentences translated to German). Our aim is to translate given sentences from German to English.\n",
    "- Sequence-to-Sequence (seq2seq) models are used for a variety of NLP tasks, such as text summarization, speech recognition, DNA sequence modeling, among others.\n",
    "- Here, both the input and output are sentences, meaning these sentences are a sequence of words going in and out of a model. This is the basic idea of Sequence-to-Sequence modeling. The figure below explains this method.\n",
    "\n",
    "<p align=\"center\">\n",
    "  <img src=\"https://cdn.analyticsvidhya.com/wp-content/uploads/2019/01/enc_dec_simple.png\" alt=\"Seq2Seq Model\">\n",
    "</p>\n",
    "\n",
    "### Here's how it works:\n",
    "\n",
    "- Feed the embedding vectors for source sequences (German) to the encoder network, one word at a time.\n",
    "- Encode the input sentences into fixed-dimension state vectors. At this step, we get the hidden and cell states from the encoder LSTM and feed them to the decoder LSTM.\n",
    "- These states are regarded as initial states by the decoder. Additionally, it also has the embedding vectors for target words (English).\n",
    "- Decode and output the translated sentence, one word at a time. In this step, the output of the decoder is sent to a softmax layer over the entire target vocabulary.\n",
    "\n",
    "## What is LSTM?\n",
    "\n",
    "- **Long Short-Term Memory (LSTM)** networks are a modified version of recurrent neural networks, which makes it easier to remember past data in memory. The vanishing gradient problem of RNNs is resolved here. LSTM is well-suited to classify, process, and predict time series with time lags of unknown duration. It trains the model using back-propagation. In an LSTM network, three gates are present:\n",
    "\n",
    "<p align=\"center\">\n",
    "  <img src=\"https://miro.medium.com/max/700/1*MwU5yk8f9d6IcLybvGgNxA.jpeg\" alt=\"LSTM Model\">\n",
    "</p>\n",
    "\n",
    "- **Input gate** — Determines which value from input should be used to modify the memory. The sigmoid function decides which values to let through (0 or 1), while the tanh function assigns weight to the values, deciding their importance, with values ranging from -1 to 1.\n",
    "\n",
    "<p align=\"center\">\n",
    "  <img src=\"https://miro.medium.com/max/500/1*k1lxwjsxxn8O4BEiVlQNdg.png\" alt=\"LSTM Input Gate\">\n",
    "</p>\n",
    "\n",
    "- **Forget gate** — Determines what details to discard from the block. It is decided by the sigmoid function. It looks at the previous state (ht-1) and the current input (Xt), outputting a number between 0 (omit) and 1 (keep) for each number in the cell state Ct−1.\n",
    "\n",
    "<p align=\"center\">\n",
    "  <img src=\"https://miro.medium.com/max/500/1*bQnecA5sy_eepNkL8I-95A.png\" alt=\"LSTM Forget Gate\">\n",
    "</p>\n",
    "\n",
    "- **Output gate** — Uses the input and memory of the block to determine the output. The sigmoid function decides which values to let through (0 or 1), while the tanh function assigns importance to values, ranging from -1 to 1, which are then multiplied with the output of the sigmoid function.\n",
    "\n",
    "<p align=\"center\">\n",
    "  <img src=\"https://miro.medium.com/max/700/1*s8532P11PgGi2sZqikZ2kA.png\" alt=\"LSTM Output Gate\">\n",
    "</p>\n"
   ]
  },
  {
   "cell_type": "markdown",
   "metadata": {},
   "source": [
    "### Import the Required Libraries"
   ]
  },
  {
   "cell_type": "code",
   "execution_count": 3,
   "metadata": {
    "trusted": true
   },
   "outputs": [],
   "source": [
    "import string\n",
    "import re\n",
    "from numpy import array, argmax, random, take\n",
    "import pandas as pd\n",
    "from keras.models import Sequential\n",
    "from keras.layers import Dense, LSTM, Embedding, RepeatVector\n",
    "from tensorflow.keras.preprocessing.text import Tokenizer\n",
    "from keras.callbacks import ModelCheckpoint\n",
    "from keras.preprocessing.sequence import pad_sequences\n",
    "from keras.models import load_model\n",
    "from keras import optimizers\n",
    "import matplotlib.pyplot as plt\n",
    "%matplotlib inline\n",
    "pd.set_option('display.max_colwidth', 200)"
   ]
  },
  {
   "cell_type": "markdown",
   "metadata": {},
   "source": [
    "### Load the Data"
   ]
  },
  {
   "cell_type": "code",
   "execution_count": 6,
   "metadata": {
    "trusted": true
   },
   "outputs": [],
   "source": [
    "# function to read raw text file\n",
    "def read_text(filename, lines):\n",
    "    # Read till number of lines\n",
    "    with open(filename, 'r', encoding='utf-8') as f:\n",
    "        text = f.read().split('\\n')\n",
    "    return text[:lines]"
   ]
  },
  {
   "cell_type": "code",
   "execution_count": 11,
   "metadata": {
    "trusted": true
   },
   "outputs": [],
   "source": [
    "data = read_text(\"../data/test.tsv\", 10000)\n",
    "en_de = array([i.split('\\t') for i in data])"
   ]
  },
  {
   "cell_type": "markdown",
   "metadata": {},
   "source": [
    "### Text Cleaning / Preprocessing\n",
    "We will get rid of the punctuation marks and then convert all the text to lower case"
   ]
  },
  {
   "cell_type": "code",
   "execution_count": 13,
   "metadata": {
    "trusted": true
   },
   "outputs": [
    {
     "data": {
      "text/plain": [
       "array([['de', 'en'],\n",
       "       ['Ursprünglich war die Schulhofsanierung sogar schon in den Jahren 20082009 geplant doch hohe unplanmäßige Ausgaben brachten eine Verschiebung',\n",
       "        'The school yard renovation was originally planned back in 20082009 however high unplanned expenses meant that the work had to be pushed back'],\n",
       "       ['Von daher werden sie gegen ihren ExCoach sicher ganz besonders motiviert sein',\n",
       "        'Consequently they will be particularly motivated playing against their former coach'],\n",
       "       ...,\n",
       "       ['Die Nachrichten über diese Untersuchungen hat die Händler in einem Bereich in Aufruhr versetzt der in den letzten Jahren zu einem der profitabelsten der TradingEinheiten von Investmentbanken gehört hat aber dieses Jahr unter Druck stand weil niedrige Volatilität bei Währungen die Chancen für Spekulanten einschränkt',\n",
       "        'News about the probes has rattled traders in an area that has been one of the bigger profit drivers of investment banks trading units in past years but which has been challenged this year as low volatility in currencies cuts opportunities for speculators'],\n",
       "       ['Die drei Schiffsentlader auf der Brücke sowie das zweite Transportband könnten bis zu 10 Millionen schaffen',\n",
       "        'The three ship unloaders on the bridge and the second transport belt could see this rise to 10 million'],\n",
       "       ['Es handle sich um eine völlig gebrochene Persönlichkeit die Gewalt und Ausbeutung in diesem Metier als normal ansehe',\n",
       "        'This is a case of a completely broken personality that views the violence and exploitation in this field as normal']],\n",
       "      dtype='<U467')"
      ]
     },
     "execution_count": 13,
     "metadata": {},
     "output_type": "execute_result"
    }
   ],
   "source": [
    "# Remove punctuation\n",
    "en_de[:,0] = [s.translate(str.maketrans('', '', string.punctuation)) for s in en_de[:,0]]\n",
    "en_de[:,1] = [s.translate(str.maketrans('', '', string.punctuation)) for s in en_de[:,1]]\n",
    "\n",
    "en_de"
   ]
  },
  {
   "cell_type": "code",
   "execution_count": 14,
   "metadata": {
    "trusted": true
   },
   "outputs": [],
   "source": [
    "# convert text to lowercase\n",
    "for i in range(len(en_de)):\n",
    "    en_de[i,0] = en_de[i,0].lower()\n",
    "    en_de[i,1] = en_de[i,1].lower()"
   ]
  },
  {
   "cell_type": "code",
   "execution_count": 16,
   "metadata": {
    "trusted": true
   },
   "outputs": [
    {
     "data": {
      "image/png": "[encoded data removed]",
      "text/plain": [
       "<Figure size 640x480 with 2 Axes>"
      ]
     },
     "metadata": {},
     "output_type": "display_data"
    }
   ],
   "source": [
    "german = []\n",
    "english = []\n",
    "\n",
    "# populate the lists with sentence lengths\n",
    "for i in en_de[:,0]:\n",
    "      german.append(len(i.split()))\n",
    "\n",
    "for i in en_de[:,1]:\n",
    "      english.append(len(i.split()))\n",
    "\n",
    "length_df = pd.DataFrame({'german':german, 'english':english})\n",
    "\n",
    "length_df.hist(bins = 30)\n",
    "plt.show()"
   ]
  },
  {
   "cell_type": "markdown",
   "metadata": {},
   "source": [
    "- A Seq2Seq model requires that we convert both the input and the output sentences into integer sequences of fixed length\n",
    "- Now, vectorize our text data by using Keras’s Tokenizer() class. It will turn our sentences into sequences of integers. We can then pad those sequences with zeros to make all the sequences of the same length\n",
    "- Prepare tokenizers for both the German and English sentences"
   ]
  },
  {
   "cell_type": "code",
   "execution_count": 17,
   "metadata": {
    "trusted": true
   },
   "outputs": [],
   "source": [
    "# function to build a tokenizer\n",
    "def tokenization(lines):\n",
    "    tokenizer = Tokenizer()\n",
    "    tokenizer.fit_on_texts(lines)\n",
    "    return tokenizer"
   ]
  },
  {
   "cell_type": "code",
   "execution_count": null,
   "metadata": {
    "trusted": true
   },
   "outputs": [
    {
     "name": "stdout",
     "output_type": "stream",
     "text": [
      "English Vocabulary Size: 13562\n"
     ]
    }
   ],
   "source": [
    "# prepare english tokenizer\n",
    "eng_tokenizer = tokenization(en_de[:, 1])\n",
    "eng_vocab_size = len(eng_tokenizer.word_index) + 1\n",
    "\n",
    "eng_length = 8\n",
    "print('English Vocabulary Size: %d' % eng_vocab_size)"
   ]
  },
  {
   "cell_type": "code",
   "execution_count": 19,
   "metadata": {
    "trusted": true
   },
   "outputs": [
    {
     "name": "stdout",
     "output_type": "stream",
     "text": [
      "Deutsch Vocabulary Size: 13562\n"
     ]
    }
   ],
   "source": [
    "# prepare Deutch tokenizer\n",
    "deu_tokenizer = tokenization(en_de[:, 0])\n",
    "deu_vocab_size = len(deu_tokenizer.word_index) + 1\n",
    "\n",
    "deu_length = 8\n",
    "print('Deutsch Vocabulary Size: %d' % deu_vocab_size)"
   ]
  },
  {
   "cell_type": "markdown",
   "metadata": {},
   "source": [
    "- We tokenized the data — i.e., converted the text to numerical values. This allows the neural network to perform operations on the input data.\n",
    "- When we run the tokenizer, it creates a word index, which is then used to convert each sentence to a vector."
   ]
  },
  {
   "cell_type": "code",
   "execution_count": 20,
   "metadata": {
    "trusted": true
   },
   "outputs": [],
   "source": [
    "# encode and pad sequences\n",
    "def encode_sequences(tokenizer, length, lines):\n",
    "    seq = tokenizer.texts_to_sequences(lines)\n",
    "    # pad sequences with 0 values\n",
    "    seq = pad_sequences(seq, maxlen=length, padding='post')\n",
    "    return seq"
   ]
  },
  {
   "cell_type": "markdown",
   "metadata": {},
   "source": [
    "- When we feed our sequences of word IDs into the model, each sequence needs to be the same length. To achieve this, padding is added to any sequence that is shorter than the max length (i.e. shorter than the longest sentence).\n",
    "\n",
    "<center><img src=\"https://miro.medium.com/max/1728/0*6jZTOE0P7_i7N8pn.png\"></center>"
   ]
  },
  {
   "cell_type": "markdown",
   "metadata": {},
   "source": [
    "- Inputs. Input sequences are fed into the model with one word for every time step. Each word is encoded as a unique integer so that it maps to the German dataset vocabulary.\n",
    "- Embedding Layers. Embeddings are used to convert each word to a vector. The size of the vector depends on the complexity of the vocabulary.\n",
    "- LSTM Layer (Encoder). This is where the context from word vectors in previous time steps is applied to the current word vector.\n",
    "- Dense Layers (Decoder). These are typical fully connected layers used to decode the encoded input into the correct translation sequence.\n",
    "- The outputs are returned as a sequence of integers or one-hot encoded vectors which can then be mapped to the English dataset vocabulary.\n",
    "    \n",
    "    \n",
    "<center><h1 style=\"font-size:150%;\">Model Architecture</h1></center>\n",
    "<center><img src=\"https://cdn.analyticsvidhya.com/wp-content/uploads/2019/01/architecture.png\"></center>"
   ]
  },
  {
   "cell_type": "code",
   "execution_count": 22,
   "metadata": {
    "trusted": true
   },
   "outputs": [],
   "source": [
    "from sklearn.model_selection import train_test_split\n",
    "\n",
    "# split data into train and test set\n",
    "train, test = train_test_split(en_de, test_size=0.2, random_state = 12)"
   ]
  },
  {
   "cell_type": "markdown",
   "metadata": {},
   "source": [
    "- It’s time to encode the sentences. We will encode German sentences as the input sequences and English sentences as the target sequences. This has to be done for both the train and test datasets."
   ]
  },
  {
   "cell_type": "code",
   "execution_count": 23,
   "metadata": {
    "trusted": true
   },
   "outputs": [],
   "source": [
    "# prepare training data\n",
    "trainX = encode_sequences(deu_tokenizer, deu_length, train[:, 1])\n",
    "trainY = encode_sequences(eng_tokenizer, eng_length, train[:, 0])\n",
    "\n",
    "# prepare validation data\n",
    "testX = encode_sequences(deu_tokenizer, deu_length, test[:, 1])\n",
    "testY = encode_sequences(eng_tokenizer, eng_length, test[:, 0])"
   ]
  },
  {
   "cell_type": "markdown",
   "metadata": {},
   "source": [
    "### Define the Model"
   ]
  },
  {
   "cell_type": "code",
   "execution_count": 24,
   "metadata": {
    "trusted": true
   },
   "outputs": [],
   "source": [
    "# build NMT model\n",
    "def define_model(in_vocab,out_vocab, in_timesteps,out_timesteps,units):\n",
    "    model = Sequential()\n",
    "    model.add(Embedding(in_vocab, units, input_length=in_timesteps, mask_zero=True))\n",
    "    model.add(LSTM(units))\n",
    "    model.add(RepeatVector(out_timesteps))\n",
    "    model.add(LSTM(units, return_sequences=True))\n",
    "    model.add(Dense(out_vocab, activation='softmax'))\n",
    "    return model"
   ]
  },
  {
   "cell_type": "code",
   "execution_count": 26,
   "metadata": {
    "trusted": true
   },
   "outputs": [],
   "source": [
    "# model compilation\n",
    "model = define_model(deu_vocab_size, eng_vocab_size, deu_length, eng_length, 512)"
   ]
  },
  {
   "cell_type": "code",
   "execution_count": 29,
   "metadata": {
    "trusted": true
   },
   "outputs": [],
   "source": [
    "rms = optimizers.RMSprop(learning_rate=0.001)\n",
    "model.compile(optimizer=rms, loss='sparse_categorical_crossentropy')"
   ]
  },
  {
   "cell_type": "markdown",
   "metadata": {},
   "source": [
    "- We are using the RMSprop optimizer in this model as it’s usually a good choice when working with recurrent neural networks.\n",
    "- Here I have used ‘sparse_categorical_crossentropy‘ as the loss function. This is because the function allows us to use the target sequence as is, instead of the one-hot encoded format. One-hot encoding the target sequences using such a huge vocabulary might consume our system’s entire memory.\n",
    "               "
   ]
  },
  {
   "cell_type": "markdown",
   "metadata": {},
   "source": [
    "### Fit the Model"
   ]
  },
  {
   "cell_type": "code",
   "execution_count": 32,
   "metadata": {
    "trusted": true
   },
   "outputs": [
    {
     "name": "stdout",
     "output_type": "stream",
     "text": [
      "Epoch 1/30\n"
     ]
    },
    {
     "name": "stderr",
     "output_type": "stream",
     "text": [
      "2024-11-12 00:10:03.739476: E tensorflow/core/util/util.cc:131] oneDNN supports DT_BOOL only on platforms with AVX-512. Falling back to the default Eigen-based implementation if present.\n"
     ]
    },
    {
     "name": "stdout",
     "output_type": "stream",
     "text": [
      "\u001b[1m4/4\u001b[0m \u001b[32m━━━━━━━━━━━━━━━━━━━━\u001b[0m\u001b[37m\u001b[0m \u001b[1m0s\u001b[0m 4s/step - loss: 9.5139\n",
      "Epoch 1: val_loss improved from inf to 9.50915, saving model to model.1.keras\n",
      "\u001b[1m4/4\u001b[0m \u001b[32m━━━━━━━━━━━━━━━━━━━━\u001b[0m\u001b[37m\u001b[0m \u001b[1m33s\u001b[0m 5s/step - loss: 9.5136 - val_loss: 9.5091\n",
      "Epoch 2/30\n",
      "\u001b[1m4/4\u001b[0m \u001b[32m━━━━━━━━━━━━━━━━━━━━\u001b[0m\u001b[37m\u001b[0m \u001b[1m0s\u001b[0m 4s/step - loss: 9.5078\n",
      "Epoch 2: val_loss improved from 9.50915 to 9.50338, saving model to model.1.keras\n",
      "\u001b[1m4/4\u001b[0m \u001b[32m━━━━━━━━━━━━━━━━━━━━\u001b[0m\u001b[37m\u001b[0m \u001b[1m16s\u001b[0m 4s/step - loss: 9.5077 - val_loss: 9.5034\n",
      "Epoch 3/30\n",
      "\u001b[1m4/4\u001b[0m \u001b[32m━━━━━━━━━━━━━━━━━━━━\u001b[0m\u001b[37m\u001b[0m \u001b[1m0s\u001b[0m 4s/step - loss: 9.5013\n",
      "Epoch 3: val_loss improved from 9.50338 to 9.49449, saving model to model.1.keras\n",
      "\u001b[1m4/4\u001b[0m \u001b[32m━━━━━━━━━━━━━━━━━━━━\u001b[0m\u001b[37m\u001b[0m \u001b[1m18s\u001b[0m 5s/step - loss: 9.5010 - val_loss: 9.4945\n",
      "Epoch 4/30\n",
      "\u001b[1m4/4\u001b[0m \u001b[32m━━━━━━━━━━━━━━━━━━━━\u001b[0m\u001b[37m\u001b[0m \u001b[1m0s\u001b[0m 4s/step - loss: 9.4911\n",
      "Epoch 4: val_loss improved from 9.49449 to 9.47787, saving model to model.1.keras\n",
      "\u001b[1m4/4\u001b[0m \u001b[32m━━━━━━━━━━━━━━━━━━━━\u001b[0m\u001b[37m\u001b[0m \u001b[1m17s\u001b[0m 4s/step - loss: 9.4906 - val_loss: 9.4779\n",
      "Epoch 5/30\n",
      "\u001b[1m4/4\u001b[0m \u001b[32m━━━━━━━━━━━━━━━━━━━━\u001b[0m\u001b[37m\u001b[0m \u001b[1m0s\u001b[0m 4s/step - loss: 9.4717\n",
      "Epoch 5: val_loss improved from 9.47787 to 9.43898, saving model to model.1.keras\n",
      "\u001b[1m4/4\u001b[0m \u001b[32m━━━━━━━━━━━━━━━━━━━━\u001b[0m\u001b[37m\u001b[0m \u001b[1m16s\u001b[0m 4s/step - loss: 9.4706 - val_loss: 9.4390\n",
      "Epoch 6/30\n",
      "\u001b[1m4/4\u001b[0m \u001b[32m━━━━━━━━━━━━━━━━━━━━\u001b[0m\u001b[37m\u001b[0m \u001b[1m0s\u001b[0m 4s/step - loss: 9.4217\n",
      "Epoch 6: val_loss improved from 9.43898 to 9.26783, saving model to model.1.keras\n",
      "\u001b[1m4/4\u001b[0m \u001b[32m━━━━━━━━━━━━━━━━━━━━\u001b[0m\u001b[37m\u001b[0m \u001b[1m20s\u001b[0m 4s/step - loss: 9.4177 - val_loss: 9.2678\n",
      "Epoch 7/30\n",
      "\u001b[1m4/4\u001b[0m \u001b[32m━━━━━━━━━━━━━━━━━━━━\u001b[0m\u001b[37m\u001b[0m \u001b[1m0s\u001b[0m 4s/step - loss: 9.1390\n",
      "Epoch 7: val_loss improved from 9.26783 to 8.50003, saving model to model.1.keras\n",
      "\u001b[1m4/4\u001b[0m \u001b[32m━━━━━━━━━━━━━━━━━━━━\u001b[0m\u001b[37m\u001b[0m \u001b[1m17s\u001b[0m 4s/step - loss: 9.1113 - val_loss: 8.5000\n",
      "Epoch 8/30\n",
      "\u001b[1m4/4\u001b[0m \u001b[32m━━━━━━━━━━━━━━━━━━━━\u001b[0m\u001b[37m\u001b[0m \u001b[1m0s\u001b[0m 4s/step - loss: 8.3852\n",
      "Epoch 8: val_loss improved from 8.50003 to 8.17294, saving model to model.1.keras\n",
      "\u001b[1m4/4\u001b[0m \u001b[32m━━━━━━━━━━━━━━━━━━━━\u001b[0m\u001b[37m\u001b[0m \u001b[1m19s\u001b[0m 5s/step - loss: 8.3742 - val_loss: 8.1729\n",
      "Epoch 9/30\n",
      "\u001b[1m4/4\u001b[0m \u001b[32m━━━━━━━━━━━━━━━━━━━━\u001b[0m\u001b[37m\u001b[0m \u001b[1m0s\u001b[0m 4s/step - loss: 8.0609\n",
      "Epoch 9: val_loss improved from 8.17294 to 8.04679, saving model to model.1.keras\n",
      "\u001b[1m4/4\u001b[0m \u001b[32m━━━━━━━━━━━━━━━━━━━━\u001b[0m\u001b[37m\u001b[0m \u001b[1m18s\u001b[0m 5s/step - loss: 8.0577 - val_loss: 8.0468\n",
      "Epoch 10/30\n",
      "\u001b[1m4/4\u001b[0m \u001b[32m━━━━━━━━━━━━━━━━━━━━\u001b[0m\u001b[37m\u001b[0m \u001b[1m0s\u001b[0m 4s/step - loss: 7.8924\n",
      "Epoch 10: val_loss improved from 8.04679 to 7.97474, saving model to model.1.keras\n",
      "\u001b[1m4/4\u001b[0m \u001b[32m━━━━━━━━━━━━━━━━━━━━\u001b[0m\u001b[37m\u001b[0m \u001b[1m18s\u001b[0m 5s/step - loss: 7.8929 - val_loss: 7.9747\n",
      "Epoch 11/30\n",
      "\u001b[1m4/4\u001b[0m \u001b[32m━━━━━━━━━━━━━━━━━━━━\u001b[0m\u001b[37m\u001b[0m \u001b[1m0s\u001b[0m 4s/step - loss: 7.7994\n",
      "Epoch 11: val_loss improved from 7.97474 to 7.92481, saving model to model.1.keras\n",
      "\u001b[1m4/4\u001b[0m \u001b[32m━━━━━━━━━━━━━━━━━━━━\u001b[0m\u001b[37m\u001b[0m \u001b[1m19s\u001b[0m 5s/step - loss: 7.7989 - val_loss: 7.9248\n",
      "Epoch 12/30\n",
      "\u001b[1m4/4\u001b[0m \u001b[32m━━━━━━━━━━━━━━━━━━━━\u001b[0m\u001b[37m\u001b[0m \u001b[1m0s\u001b[0m 4s/step - loss: 7.7153\n",
      "Epoch 12: val_loss improved from 7.92481 to 7.88737, saving model to model.1.keras\n",
      "\u001b[1m4/4\u001b[0m \u001b[32m━━━━━━━━━━━━━━━━━━━━\u001b[0m\u001b[37m\u001b[0m \u001b[1m25s\u001b[0m 7s/step - loss: 7.7133 - val_loss: 7.8874\n",
      "Epoch 13/30\n",
      "\u001b[1m4/4\u001b[0m \u001b[32m━━━━━━━━━━━━━━━━━━━━\u001b[0m\u001b[37m\u001b[0m \u001b[1m0s\u001b[0m 4s/step - loss: 7.6386\n",
      "Epoch 13: val_loss improved from 7.88737 to 7.88186, saving model to model.1.keras\n",
      "\u001b[1m4/4\u001b[0m \u001b[32m━━━━━━━━━━━━━━━━━━━━\u001b[0m\u001b[37m\u001b[0m \u001b[1m16s\u001b[0m 4s/step - loss: 7.6371 - val_loss: 7.8819\n",
      "Epoch 14/30\n",
      "\u001b[1m4/4\u001b[0m \u001b[32m━━━━━━━━━━━━━━━━━━━━\u001b[0m\u001b[37m\u001b[0m \u001b[1m0s\u001b[0m 4s/step - loss: 7.5801\n",
      "Epoch 14: val_loss improved from 7.88186 to 7.88065, saving model to model.1.keras\n",
      "\u001b[1m4/4\u001b[0m \u001b[32m━━━━━━━━━━━━━━━━━━━━\u001b[0m\u001b[37m\u001b[0m \u001b[1m16s\u001b[0m 4s/step - loss: 7.5846 - val_loss: 7.8806\n",
      "Epoch 15/30\n",
      "\u001b[1m4/4\u001b[0m \u001b[32m━━━━━━━━━━━━━━━━━━━━\u001b[0m\u001b[37m\u001b[0m \u001b[1m0s\u001b[0m 4s/step - loss: 7.5392\n",
      "Epoch 15: val_loss improved from 7.88065 to 7.86527, saving model to model.1.keras\n",
      "\u001b[1m4/4\u001b[0m \u001b[32m━━━━━━━━━━━━━━━━━━━━\u001b[0m\u001b[37m\u001b[0m \u001b[1m16s\u001b[0m 4s/step - loss: 7.5392 - val_loss: 7.8653\n",
      "Epoch 16/30\n",
      "\u001b[1m4/4\u001b[0m \u001b[32m━━━━━━━━━━━━━━━━━━━━\u001b[0m\u001b[37m\u001b[0m \u001b[1m0s\u001b[0m 4s/step - loss: 7.4868\n",
      "Epoch 16: val_loss did not improve from 7.86527\n",
      "\u001b[1m4/4\u001b[0m \u001b[32m━━━━━━━━━━━━━━━━━━━━\u001b[0m\u001b[37m\u001b[0m \u001b[1m15s\u001b[0m 4s/step - loss: 7.4896 - val_loss: 7.8778\n",
      "Epoch 17/30\n",
      "\u001b[1m4/4\u001b[0m \u001b[32m━━━━━━━━━━━━━━━━━━━━\u001b[0m\u001b[37m\u001b[0m \u001b[1m0s\u001b[0m 4s/step - loss: 7.4625\n",
      "Epoch 17: val_loss did not improve from 7.86527\n",
      "\u001b[1m4/4\u001b[0m \u001b[32m━━━━━━━━━━━━━━━━━━━━\u001b[0m\u001b[37m\u001b[0m \u001b[1m15s\u001b[0m 4s/step - loss: 7.4640 - val_loss: 7.8732\n",
      "Epoch 18/30\n",
      "\u001b[1m4/4\u001b[0m \u001b[32m━━━━━━━━━━━━━━━━━━━━\u001b[0m\u001b[37m\u001b[0m \u001b[1m0s\u001b[0m 4s/step - loss: 7.4304\n",
      "Epoch 18: val_loss did not improve from 7.86527\n",
      "\u001b[1m4/4\u001b[0m \u001b[32m━━━━━━━━━━━━━━━━━━━━\u001b[0m\u001b[37m\u001b[0m \u001b[1m15s\u001b[0m 4s/step - loss: 7.4324 - val_loss: 7.8965\n",
      "Epoch 19/30\n",
      "\u001b[1m4/4\u001b[0m \u001b[32m━━━━━━━━━━━━━━━━━━━━\u001b[0m\u001b[37m\u001b[0m \u001b[1m0s\u001b[0m 4s/step - loss: 7.4269\n",
      "Epoch 19: val_loss did not improve from 7.86527\n",
      "\u001b[1m4/4\u001b[0m \u001b[32m━━━━━━━━━━━━━━━━━━━━\u001b[0m\u001b[37m\u001b[0m \u001b[1m15s\u001b[0m 4s/step - loss: 7.4273 - val_loss: 7.9026\n",
      "Epoch 20/30\n",
      "\u001b[1m4/4\u001b[0m \u001b[32m━━━━━━━━━━━━━━━━━━━━\u001b[0m\u001b[37m\u001b[0m \u001b[1m0s\u001b[0m 4s/step - loss: 7.3873\n",
      "Epoch 20: val_loss did not improve from 7.86527\n",
      "\u001b[1m4/4\u001b[0m \u001b[32m━━━━━━━━━━━━━━━━━━━━\u001b[0m\u001b[37m\u001b[0m \u001b[1m15s\u001b[0m 4s/step - loss: 7.3896 - val_loss: 7.9065\n",
      "Epoch 21/30\n",
      "\u001b[1m4/4\u001b[0m \u001b[32m━━━━━━━━━━━━━━━━━━━━\u001b[0m\u001b[37m\u001b[0m \u001b[1m0s\u001b[0m 4s/step - loss: 7.3725\n",
      "Epoch 21: val_loss did not improve from 7.86527\n",
      "\u001b[1m4/4\u001b[0m \u001b[32m━━━━━━━━━━━━━━━━━━━━\u001b[0m\u001b[37m\u001b[0m \u001b[1m15s\u001b[0m 4s/step - loss: 7.3733 - val_loss: 7.9358\n",
      "Epoch 22/30\n",
      "\u001b[1m4/4\u001b[0m \u001b[32m━━━━━━━━━━━━━━━━━━━━\u001b[0m\u001b[37m\u001b[0m \u001b[1m0s\u001b[0m 4s/step - loss: 7.3518\n",
      "Epoch 22: val_loss did not improve from 7.86527\n",
      "\u001b[1m4/4\u001b[0m \u001b[32m━━━━━━━━━━━━━━━━━━━━\u001b[0m\u001b[37m\u001b[0m \u001b[1m16s\u001b[0m 4s/step - loss: 7.3549 - val_loss: 7.9411\n",
      "Epoch 23/30\n",
      "\u001b[1m4/4\u001b[0m \u001b[32m━━━━━━━━━━━━━━━━━━━━\u001b[0m\u001b[37m\u001b[0m \u001b[1m0s\u001b[0m 4s/step - loss: 7.3367\n",
      "Epoch 23: val_loss did not improve from 7.86527\n",
      "\u001b[1m4/4\u001b[0m \u001b[32m━━━━━━━━━━━━━━━━━━━━\u001b[0m\u001b[37m\u001b[0m \u001b[1m15s\u001b[0m 4s/step - loss: 7.3398 - val_loss: 7.9475\n",
      "Epoch 24/30\n",
      "\u001b[1m4/4\u001b[0m \u001b[32m━━━━━━━━━━━━━━━━━━━━\u001b[0m\u001b[37m\u001b[0m \u001b[1m0s\u001b[0m 4s/step - loss: 7.3305\n",
      "Epoch 24: val_loss did not improve from 7.86527\n",
      "\u001b[1m4/4\u001b[0m \u001b[32m━━━━━━━━━━━━━━━━━━━━\u001b[0m\u001b[37m\u001b[0m \u001b[1m23s\u001b[0m 5s/step - loss: 7.3306 - val_loss: 7.9660\n",
      "Epoch 25/30\n",
      "\u001b[1m4/4\u001b[0m \u001b[32m━━━━━━━━━━━━━━━━━━━━\u001b[0m\u001b[37m\u001b[0m \u001b[1m0s\u001b[0m 4s/step - loss: 7.2945\n",
      "Epoch 25: val_loss did not improve from 7.86527\n",
      "\u001b[1m4/4\u001b[0m \u001b[32m━━━━━━━━━━━━━━━━━━━━\u001b[0m\u001b[37m\u001b[0m \u001b[1m15s\u001b[0m 4s/step - loss: 7.2985 - val_loss: 7.9792\n",
      "Epoch 26/30\n",
      "\u001b[1m4/4\u001b[0m \u001b[32m━━━━━━━━━━━━━━━━━━━━\u001b[0m\u001b[37m\u001b[0m \u001b[1m0s\u001b[0m 3s/step - loss: 7.2695\n",
      "Epoch 26: val_loss did not improve from 7.86527\n",
      "\u001b[1m4/4\u001b[0m \u001b[32m━━━━━━━━━━━━━━━━━━━━\u001b[0m\u001b[37m\u001b[0m \u001b[1m15s\u001b[0m 4s/step - loss: 7.2769 - val_loss: 7.9756\n",
      "Epoch 27/30\n",
      "\u001b[1m4/4\u001b[0m \u001b[32m━━━━━━━━━━━━━━━━━━━━\u001b[0m\u001b[37m\u001b[0m \u001b[1m0s\u001b[0m 4s/step - loss: 7.2619\n",
      "Epoch 27: val_loss did not improve from 7.86527\n",
      "\u001b[1m4/4\u001b[0m \u001b[32m━━━━━━━━━━━━━━━━━━━━\u001b[0m\u001b[37m\u001b[0m \u001b[1m15s\u001b[0m 4s/step - loss: 7.2670 - val_loss: 8.0067\n",
      "Epoch 28/30\n",
      "\u001b[1m4/4\u001b[0m \u001b[32m━━━━━━━━━━━━━━━━━━━━\u001b[0m\u001b[37m\u001b[0m \u001b[1m0s\u001b[0m 4s/step - loss: 7.2577\n",
      "Epoch 28: val_loss did not improve from 7.86527\n",
      "\u001b[1m4/4\u001b[0m \u001b[32m━━━━━━━━━━━━━━━━━━━━\u001b[0m\u001b[37m\u001b[0m \u001b[1m15s\u001b[0m 4s/step - loss: 7.2612 - val_loss: 8.0033\n",
      "Epoch 29/30\n",
      "\u001b[1m4/4\u001b[0m \u001b[32m━━━━━━━━━━━━━━━━━━━━\u001b[0m\u001b[37m\u001b[0m \u001b[1m0s\u001b[0m 4s/step - loss: 7.2293\n",
      "Epoch 29: val_loss did not improve from 7.86527\n",
      "\u001b[1m4/4\u001b[0m \u001b[32m━━━━━━━━━━━━━━━━━━━━\u001b[0m\u001b[37m\u001b[0m \u001b[1m15s\u001b[0m 4s/step - loss: 7.2352 - val_loss: 8.0288\n",
      "Epoch 30/30\n",
      "\u001b[1m4/4\u001b[0m \u001b[32m━━━━━━━━━━━━━━━━━━━━\u001b[0m\u001b[37m\u001b[0m \u001b[1m0s\u001b[0m 4s/step - loss: 7.2369\n",
      "Epoch 30: val_loss did not improve from 7.86527\n",
      "\u001b[1m4/4\u001b[0m \u001b[32m━━━━━━━━━━━━━━━━━━━━\u001b[0m\u001b[37m\u001b[0m \u001b[1m15s\u001b[0m 4s/step - loss: 7.2396 - val_loss: 8.0184\n"
     ]
    }
   ],
   "source": [
    "filename = 'model.1.keras'\n",
    "checkpoint = ModelCheckpoint(filename, monitor='val_loss', verbose=1, save_best_only=True, mode='min')\n",
    "\n",
    "# train model\n",
    "history = model.fit(trainX, trainY.reshape(trainY.shape[0], trainY.shape[1], 1),\n",
    "                    epochs=30, batch_size=512, validation_split = 0.2,callbacks=[checkpoint], \n",
    "                    verbose=1)"
   ]
  },
  {
   "cell_type": "code",
   "execution_count": 33,
   "metadata": {
    "trusted": true
   },
   "outputs": [
    {
     "data": {
      "image/png": "[encoded data removed]",
      "text/plain": [
       "<Figure size 640x480 with 1 Axes>"
      ]
     },
     "metadata": {},
     "output_type": "display_data"
    }
   ],
   "source": [
    "plt.plot(history.history['loss'])\n",
    "plt.plot(history.history['val_loss'])\n",
    "plt.legend(['train','validation'])\n",
    "plt.show()"
   ]
  },
  {
   "cell_type": "markdown",
   "metadata": {},
   "source": [
    "### Prediction on unseen data"
   ]
  },
  {
   "cell_type": "code",
   "execution_count": 36,
   "metadata": {
    "trusted": true
   },
   "outputs": [
    {
     "name": "stdout",
     "output_type": "stream",
     "text": [
      "\u001b[1m19/19\u001b[0m \u001b[32m━━━━━━━━━━━━━━━━━━━━\u001b[0m\u001b[37m\u001b[0m \u001b[1m1s\u001b[0m 47ms/step\n"
     ]
    }
   ],
   "source": [
    "model = load_model('model.1.keras')\n",
    "preds = model.predict(testX.reshape((testX.shape[0],testX.shape[1])))\n",
    "preds = argmax(preds, axis=2)"
   ]
  },
  {
   "cell_type": "code",
   "execution_count": 37,
   "metadata": {
    "trusted": true
   },
   "outputs": [],
   "source": [
    "def get_word(n, tokenizer):\n",
    "    for word, index in tokenizer.word_index.items():\n",
    "        if index == n:\n",
    "            return word\n",
    "    return None"
   ]
  },
  {
   "cell_type": "code",
   "execution_count": 38,
   "metadata": {
    "trusted": true
   },
   "outputs": [],
   "source": [
    "preds_text = []\n",
    "for i in preds:\n",
    "    temp = []\n",
    "    for j in range(len(i)):\n",
    "        t = get_word(i[j], eng_tokenizer)\n",
    "        if j > 0:\n",
    "            if (t == get_word(i[j-1], eng_tokenizer)) or (t == None):\n",
    "                temp.append('')\n",
    "            else:\n",
    "                temp.append(t)\n",
    "        else:\n",
    "            if(t == None):\n",
    "                temp.append('')\n",
    "            else:\n",
    "                temp.append(t) \n",
    "\n",
    "    preds_text.append(' '.join(temp))"
   ]
  },
  {
   "cell_type": "code",
   "execution_count": 39,
   "metadata": {
    "trusted": true
   },
   "outputs": [],
   "source": [
    "pred_df = pd.DataFrame({'actual' : test[:,0], 'predicted' : preds_text})"
   ]
  },
  {
   "cell_type": "code",
   "execution_count": 40,
   "metadata": {
    "trusted": true
   },
   "outputs": [
    {
     "data": {
      "text/html": [
       "<div>\n",
       "<style scoped>\n",
       "    .dataframe tbody tr th:only-of-type {\n",
       "        vertical-align: middle;\n",
       "    }\n",
       "\n",
       "    .dataframe tbody tr th {\n",
       "        vertical-align: top;\n",
       "    }\n",
       "\n",
       "    .dataframe thead th {\n",
       "        text-align: right;\n",
       "    }\n",
       "</style>\n",
       "<table border=\"1\" class=\"dataframe\">\n",
       "  <thead>\n",
       "    <tr style=\"text-align: right;\">\n",
       "      <th></th>\n",
       "      <th>actual</th>\n",
       "      <th>predicted</th>\n",
       "    </tr>\n",
       "  </thead>\n",
       "  <tbody>\n",
       "    <tr>\n",
       "      <th>0</th>\n",
       "      <td>johannes kana war bereits anfang der woche des verbrechens für schuldig befunden worden</td>\n",
       "      <td>die der</td>\n",
       "    </tr>\n",
       "    <tr>\n",
       "      <th>1</th>\n",
       "      <td>man könnte sagen dass new york city die geburtsstätte von standup comedy in amerika ist vor knapp hundert jahren fing der varietekünstler frank fay der als conférencier im palace theatre am broadw...</td>\n",
       "      <td>die der</td>\n",
       "    </tr>\n",
       "    <tr>\n",
       "      <th>2</th>\n",
       "      <td>der schuss kam aus einem kleinwagen der an einer gruppe von sechs kindern vorbeigefahren war und plötzlich angehalten hatte</td>\n",
       "      <td>die der</td>\n",
       "    </tr>\n",
       "    <tr>\n",
       "      <th>3</th>\n",
       "      <td>er sagt obama habe lobenswerte bemühungen unternommen die von der blockadetaktik der republikaner vereitelt worden seien</td>\n",
       "      <td>die</td>\n",
       "    </tr>\n",
       "    <tr>\n",
       "      <th>4</th>\n",
       "      <td>im bundestag wurde vorgeschlagen wir sollten ein deutsches google aufbauen</td>\n",
       "      <td>die  der</td>\n",
       "    </tr>\n",
       "    <tr>\n",
       "      <th>5</th>\n",
       "      <td>das einzige was wir nicht konsumieren möchten ist das zuckersüße candy corn dennoch werden 15 millionen kilogramm davon um halloween verkauft so der nationale verband der süßwarenhersteller</td>\n",
       "      <td>die der</td>\n",
       "    </tr>\n",
       "    <tr>\n",
       "      <th>6</th>\n",
       "      <td>im rahmen des jubiläums sind etliche veranstaltungen sowohl in geisingen als auch in kirchenhausen geplant</td>\n",
       "      <td>die der</td>\n",
       "    </tr>\n",
       "    <tr>\n",
       "      <th>7</th>\n",
       "      <td>des weiteren lassen sich an beiden veranstaltungstagen von 11 bis 17 uhr zahlreiche handwerker wie der besenbinder die näherin die spinnerin die weberin und die bäckerin bei ihrer traditionellen a...</td>\n",
       "      <td>die der</td>\n",
       "    </tr>\n",
       "    <tr>\n",
       "      <th>8</th>\n",
       "      <td>das thema hebesätze müssen wir uns anschauen da in den kommenden jahren investitionen anstehen für die wir gerne zuschüsse hätten kündigte gerster in diesem zusammenhang an</td>\n",
       "      <td>die der</td>\n",
       "    </tr>\n",
       "    <tr>\n",
       "      <th>9</th>\n",
       "      <td>traditionell ist das stiftungsfest auch immer die passende festivität um ehrungen vorzunehmen</td>\n",
       "      <td>die  der</td>\n",
       "    </tr>\n",
       "    <tr>\n",
       "      <th>10</th>\n",
       "      <td>klicken sie sich durch die bildergalerie zum aufrtitt der singenden föhnwelle</td>\n",
       "      <td>die der</td>\n",
       "    </tr>\n",
       "    <tr>\n",
       "      <th>11</th>\n",
       "      <td>polizeichef david kimaiyo reagierte darauf mit der einbestellung zweier journalisten und eines führenden medienvertreters zu verhören auch wenn die vorladung nach einem aufschrei der medien zurück...</td>\n",
       "      <td>die der</td>\n",
       "    </tr>\n",
       "    <tr>\n",
       "      <th>12</th>\n",
       "      <td>andy clayton spezialist des technischen rettungsteams sagte „sie war in einer gefährlichen lage</td>\n",
       "      <td>die der</td>\n",
       "    </tr>\n",
       "    <tr>\n",
       "      <th>13</th>\n",
       "      <td>häußler wies aber darauf hin dass es die förderung nur gebe wenn ein gesamtkonzept umgesetzt werde</td>\n",
       "      <td>die</td>\n",
       "    </tr>\n",
       "    <tr>\n",
       "      <th>14</th>\n",
       "      <td>anwälte müssen die höchsten standards an integrität aufrechterhalten und in der öffentlichkeit für vertrauen und zuversicht sorgen</td>\n",
       "      <td>die der</td>\n",
       "    </tr>\n",
       "  </tbody>\n",
       "</table>\n",
       "</div>"
      ],
      "text/plain": [
       "                                                                                                                                                                                                     actual  \\\n",
       "0                                                                                                                   johannes kana war bereits anfang der woche des verbrechens für schuldig befunden worden   \n",
       "1   man könnte sagen dass new york city die geburtsstätte von standup comedy in amerika ist vor knapp hundert jahren fing der varietekünstler frank fay der als conférencier im palace theatre am broadw...   \n",
       "2                                                                               der schuss kam aus einem kleinwagen der an einer gruppe von sechs kindern vorbeigefahren war und plötzlich angehalten hatte   \n",
       "3                                                                                  er sagt obama habe lobenswerte bemühungen unternommen die von der blockadetaktik der republikaner vereitelt worden seien   \n",
       "4                                                                                                                                im bundestag wurde vorgeschlagen wir sollten ein deutsches google aufbauen   \n",
       "5             das einzige was wir nicht konsumieren möchten ist das zuckersüße candy corn dennoch werden 15 millionen kilogramm davon um halloween verkauft so der nationale verband der süßwarenhersteller   \n",
       "6                                                                                                im rahmen des jubiläums sind etliche veranstaltungen sowohl in geisingen als auch in kirchenhausen geplant   \n",
       "7   des weiteren lassen sich an beiden veranstaltungstagen von 11 bis 17 uhr zahlreiche handwerker wie der besenbinder die näherin die spinnerin die weberin und die bäckerin bei ihrer traditionellen a...   \n",
       "8                              das thema hebesätze müssen wir uns anschauen da in den kommenden jahren investitionen anstehen für die wir gerne zuschüsse hätten kündigte gerster in diesem zusammenhang an   \n",
       "9                                                                                                             traditionell ist das stiftungsfest auch immer die passende festivität um ehrungen vorzunehmen   \n",
       "10                                                                                                                            klicken sie sich durch die bildergalerie zum aufrtitt der singenden föhnwelle   \n",
       "11  polizeichef david kimaiyo reagierte darauf mit der einbestellung zweier journalisten und eines führenden medienvertreters zu verhören auch wenn die vorladung nach einem aufschrei der medien zurück...   \n",
       "12                                                                                                          andy clayton spezialist des technischen rettungsteams sagte „sie war in einer gefährlichen lage   \n",
       "13                                                                                                       häußler wies aber darauf hin dass es die förderung nur gebe wenn ein gesamtkonzept umgesetzt werde   \n",
       "14                                                                       anwälte müssen die höchsten standards an integrität aufrechterhalten und in der öffentlichkeit für vertrauen und zuversicht sorgen   \n",
       "\n",
       "        predicted  \n",
       "0   die der        \n",
       "1   die der        \n",
       "2   die der        \n",
       "3      die         \n",
       "4   die  der       \n",
       "5   die der        \n",
       "6   die der        \n",
       "7   die der        \n",
       "8   die der        \n",
       "9   die  der       \n",
       "10  die der        \n",
       "11  die der        \n",
       "12  die der        \n",
       "13     die         \n",
       "14  die der        "
      ]
     },
     "execution_count": 40,
     "metadata": {},
     "output_type": "execute_result"
    }
   ],
   "source": [
    "# print 15 rows randomly\n",
    "pred_df.head(15)"
   ]
  }
 ],
 "metadata": {
  "kernelspec": {
   "display_name": ".venv",
   "language": "python",
   "name": "python3"
  },
  "language_info": {
   "codemirror_mode": {
    "name": "ipython",
    "version": 3
   },
   "file_extension": ".py",
   "mimetype": "text/x-python",
   "name": "python",
   "nbconvert_exporter": "python",
   "pygments_lexer": "ipython3",
   "version": "3.9.19"
  }
 },
 "nbformat": 4,
 "nbformat_minor": 4
}
