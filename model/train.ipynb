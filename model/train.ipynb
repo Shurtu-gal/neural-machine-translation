{
 "cells": [
  {
   "cell_type": "markdown",
   "metadata": {},
   "source": [
    "# Neural Machine Translation using Seq2Seq with Attention:\n",
    "\n",
    "- Dataset: WMT'14 English-German Translation Dataset\n",
    "- Task: Build a neural machine translation model using sequence-to-sequence (Seq2Seq) architecture with attention mechanism to translate text from\n",
    "English to another language (e.g., German).\n",
    "- Optional: Create a web app where users can input text in one language and get a translation.\n"
   ]
  }
 ],
 "metadata": {
  "language_info": {
   "name": "python"
  }
 },
 "nbformat": 4,
 "nbformat_minor": 2
}
