{
 "cells": [
  {
   "cell_type": "code",
   "execution_count": 3,
   "metadata": {},
   "outputs": [
    {
     "name": "stdout",
     "output_type": "stream",
     "text": [
      "Es ist schön, heute neue Dinge zu lernen!\n"
     ]
    }
   ],
   "source": [
    "import trax\n",
    "import trax.models\n",
    "\n",
    "model = trax.models.Transformer(\n",
    "    input_vocab_size=33300,\n",
    "    d_model=512, d_ff=2048,\n",
    "    n_heads=8, n_encoder_layers=6, n_decoder_layers=6,\n",
    "    max_len=2048, mode='predict')\n",
    "\n",
    "# Initialize using pre-trained weights.\n",
    "model.init_from_file('../google/ende_wmt32k.pkl.gz',\n",
    "                     weights_only=True)\n",
    "\n",
    "# Tokenize a sentence.\n",
    "sentence = 'It is nice to learn new things today!'\n",
    "tokenized = list(trax.data.tokenize(iter([sentence]),  # Operates on streams.\n",
    "                                    vocab_dir='../google/',\n",
    "                                    vocab_file='ende_32k.subword'))[0]\n",
    "\n",
    "# Decode from the Transformer.\n",
    "tokenized = tokenized[None, :]  # Add batch dimension.\n",
    "tokenized_translation = trax.supervised.decoding.autoregressive_sample(\n",
    "    model, tokenized, temperature=0.0)  # Higher temperature: more diverse results.\n",
    "\n",
    "# De-tokenize,\n",
    "tokenized_translation = tokenized_translation[0][:-1]  # Remove batch and EOS.\n",
    "translation = trax.data.detokenize(tokenized_translation,\n",
    "                                   vocab_dir='../google/',\n",
    "                                   vocab_file='ende_32k.subword')\n",
    "print(translation)\n"
   ]
  }
 ],
 "metadata": {
  "kernelspec": {
   "display_name": ".venv",
   "language": "python",
   "name": "python3"
  },
  "language_info": {
   "codemirror_mode": {
    "name": "ipython",
    "version": 3
   },
   "file_extension": ".py",
   "mimetype": "text/x-python",
   "name": "python",
   "nbconvert_exporter": "python",
   "pygments_lexer": "ipython3",
   "version": "3.9.19"
  }
 },
 "nbformat": 4,
 "nbformat_minor": 2
}
